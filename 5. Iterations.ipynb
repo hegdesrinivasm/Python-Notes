{
 "cells": [
  {
   "cell_type": "markdown",
   "id": "5871932d-a015-4a01-ae2a-ae8c6c609752",
   "metadata": {},
   "source": [
    "## 5 LOOPS :-\n",
    "#### Instead of using the same statments multiple times 'Loops' can be implemented to do the same task more efficiently\n",
    "There are two types of loops:\n",
    "#### 5.1. FOR LOOPS (Definite)\n",
    "#### 5.2. WHILE (Indefenite)"
   ]
  },
  {
   "cell_type": "markdown",
   "id": "9e193dba-cdc1-4ae2-a86d-446856104299",
   "metadata": {},
   "source": [
    "### 5.1 FOR LOOPS"
   ]
  },
  {
   "cell_type": "markdown",
   "id": "0b8e3538",
   "metadata": {},
   "source": [
    "`for` loops in Python are used to iterate over a sequence (such as a list, tuple, dictionary, set, or string) and execute a block of code for each item in the sequence. The syntax of a for loop is:\n",
    "\n",
    "```python\n",
    "for item in sequence:\n",
    "    # code to execute for each item\n",
    "```\n",
    "\n",
    "`for` loops are particularly useful when you need to perform an action a specific number of times or when you need to iterate over elements in a collection."
   ]
  },
  {
   "cell_type": "markdown",
   "id": "124b0e1e-a7b5-41c7-a6a7-e7afffeabc04",
   "metadata": {},
   "source": [
    "#### 5.1.1 Range function"
   ]
  },
  {
   "cell_type": "markdown",
   "id": "6f3541a1",
   "metadata": {},
   "source": [
    "This function demonstrates the use of the `range` function in Python.\n",
    "\n",
    "The `range` function generates a sequence of numbers, which is commonly used for looping a specific number of times in for loops. It can take one, two, or three arguments:\n",
    "- `range(stop)`: Generates numbers from 0 to stop-1.\n",
    "- `range(start, stop)`: Generates numbers from start to stop-1.\n",
    "- `range(start, stop, step)`: Generates numbers from start to stop-1, incrementing by step.\n",
    "\n",
    "Returns:\n",
    "    A sequence of numbers based on the provided start, stop, and step values."
   ]
  },
  {
   "cell_type": "markdown",
   "id": "41a5bb76-b2e2-49f0-8cc1-002376447d37",
   "metadata": {},
   "source": [
    "```\n",
    "for i in range(start,stop,step):\n",
    "```"
   ]
  },
  {
   "cell_type": "code",
   "execution_count": 1,
   "id": "402e184f-146c-44b2-92da-5afc0b03f028",
   "metadata": {},
   "outputs": [
    {
     "name": "stdout",
     "output_type": "stream",
     "text": [
      "0\n",
      "1\n",
      "2\n",
      "3\n",
      "4\n"
     ]
    }
   ],
   "source": [
    "for i in range(5):\n",
    "    print(i)"
   ]
  },
  {
   "cell_type": "code",
   "execution_count": 2,
   "id": "553534ec-78b1-43e4-8d63-1c79f3a921f2",
   "metadata": {},
   "outputs": [
    {
     "name": "stdout",
     "output_type": "stream",
     "text": [
      "10\n",
      "9\n",
      "8\n",
      "7\n",
      "6\n",
      "5\n",
      "4\n",
      "3\n",
      "2\n",
      "1\n"
     ]
    }
   ],
   "source": [
    "for i in range(10,0,-1):\n",
    "    print(i)"
   ]
  },
  {
   "cell_type": "code",
   "execution_count": null,
   "id": "a30156da-8eda-4cf0-97b3-d71ee013ef0d",
   "metadata": {},
   "outputs": [
    {
     "name": "stdout",
     "output_type": "stream",
     "text": [
      "  3           0 RESUME                   0\n",
      "\n",
      "  4           2 LOAD_GLOBAL              1 (NULL + range)\n",
      "             12 LOAD_CONST               1 (5)\n",
      "             14 CALL                     1\n",
      "             22 GET_ITER\n",
      "        >>   24 FOR_ITER                13 (to 54)\n",
      "             28 STORE_FAST               0 (i)\n",
      "\n",
      "  5          30 LOAD_GLOBAL              3 (NULL + print)\n",
      "             40 LOAD_FAST                0 (i)\n",
      "             42 CALL                     1\n",
      "             50 POP_TOP\n",
      "             52 JUMP_BACKWARD           15 (to 24)\n",
      "\n",
      "  4     >>   54 END_FOR\n",
      "             56 RETURN_CONST             0 (None)\n"
     ]
    }
   ],
   "source": [
    "#simple example for 'for' loop\n",
    "import dis\n",
    "def func():\n",
    "    for i in range(5):\n",
    "        print(i)\n",
    "dis.dis(func)"
   ]
  },
  {
   "cell_type": "markdown",
   "id": "0ca9339c",
   "metadata": {},
   "source": [
    "For more info on bytecode refer the previous chapter"
   ]
  },
  {
   "cell_type": "code",
   "execution_count": 4,
   "id": "c49734f9-009e-4efd-9c96-9b8e3b0469b0",
   "metadata": {},
   "outputs": [
    {
     "name": "stdout",
     "output_type": "stream",
     "text": [
      "[('Alice', 85), ('Bob', 90), ('Charlie', 95)]\n"
     ]
    }
   ],
   "source": [
    "#ZIP FUNCTION\n",
    "names = ['Alice', 'Bob', 'Charlie']\n",
    "scores = [85, 90, 95,]\n",
    "print(list(zip(names,scores)))"
   ]
  },
  {
   "cell_type": "markdown",
   "id": "8cf637de",
   "metadata": {},
   "source": [
    "### zip() Function\n",
    "\n",
    "The `zip()` function in Python is used to combine two or more iterables (like lists, tuples, etc.) into a single iterator of tuples. Each tuple contains elements from the input iterables at the same position. It stops creating tuples when the shortest input iterable is exhausted.\n",
    "\n",
    "Example:"
   ]
  },
  {
   "cell_type": "code",
   "execution_count": 5,
   "id": "dc5a847f-fa2a-4ba0-8472-2763cbf498a8",
   "metadata": {},
   "outputs": [
    {
     "name": "stdout",
     "output_type": "stream",
     "text": [
      "Alice scored 85\n",
      "Bob scored 90\n",
      "Charlie scored 95\n"
     ]
    }
   ],
   "source": [
    "# Loop with zip\n",
    "names = ['Alice', 'Bob', 'Charlie']\n",
    "scores = [85, 90, 95,40]\n",
    "for name, score in zip(names, scores):\n",
    "    print(f\"{name} scored {score}\")\n"
   ]
  },
  {
   "cell_type": "markdown",
   "id": "46002929-1166-4d1b-aaf2-0299aba426d9",
   "metadata": {},
   "source": [
    "This section covers control flow statements in Python.\n",
    "\n",
    "- `break`: Exits the current loop.\n",
    "- `continue`: Skips to the next iteration of the loop.\n",
    "- `pass`: Does nothing, acts as a placeholder."
   ]
  },
  {
   "cell_type": "code",
   "execution_count": 6,
   "id": "e9cf67ef-e763-4cf9-97c0-06e53c7f8ffb",
   "metadata": {},
   "outputs": [
    {
     "name": "stdout",
     "output_type": "stream",
     "text": [
      "0\n",
      "1\n",
      "2\n",
      "3\n",
      "3\n",
      "3\n",
      "4\n"
     ]
    }
   ],
   "source": [
    "for i in range (5):\n",
    "    if(i==3):\n",
    "        #break\n",
    "        print(i)\n",
    "        pass\n",
    "        print(i)\n",
    "    print(i)"
   ]
  },
  {
   "cell_type": "markdown",
   "id": "cdca7945-0ff4-4ccc-a73b-12923d01f267",
   "metadata": {},
   "source": [
    "#### 5.1.2 For-Each Loop\n",
    "\n",
    "The `for-each` loop in Python is used to iterate over elements of a sequence (like a list, tuple, or string) directly. It is a simpler and more readable way to loop through items in a collection without needing to use an index variable.\n",
    "\n",
    "Example:"
   ]
  },
  {
   "cell_type": "code",
   "execution_count": 7,
   "id": "4e4ac16e-0da8-4479-93d9-e43c7ef295c2",
   "metadata": {},
   "outputs": [
    {
     "name": "stdout",
     "output_type": "stream",
     "text": [
      "apple\n",
      "banana\n",
      "cherry\n"
     ]
    }
   ],
   "source": [
    "fruits = [\"apple\", \"banana\", \"cherry\"]\n",
    "for x in fruits:\n",
    "  print(x)"
   ]
  },
  {
   "cell_type": "markdown",
   "id": "8ce93c15",
   "metadata": {},
   "source": [
    "In this example, the loop iterates over each element in the `fruits` list and prints it.\n"
   ]
  },
  {
   "cell_type": "markdown",
   "id": "ce82e14b-3912-4d3e-9217-57b3a202ba35",
   "metadata": {},
   "source": [
    "## 5.2 while"
   ]
  },
  {
   "cell_type": "markdown",
   "id": "9d19c0d7",
   "metadata": {},
   "source": [
    "`while` loops in Python are used to repeatedly execute a block of code as long as a given condition is true. The syntax of a while loop is:\n",
    "\n",
    "```python\n",
    "while condition:\n",
    "    # code to execute as long as condition is true\n",
    "```\n",
    "\n",
    "`while` loops are particularly useful when the number of iterations is not known beforehand and depends on some runtime condition.\n",
    "\n",
    "Example:"
   ]
  },
  {
   "cell_type": "code",
   "execution_count": 8,
   "id": "53b06d0f-803d-435c-95d2-391f799d637e",
   "metadata": {},
   "outputs": [
    {
     "name": "stdout",
     "output_type": "stream",
     "text": [
      "0\n",
      "1\n",
      "2\n",
      "3\n",
      "4\n"
     ]
    }
   ],
   "source": [
    "i=0\n",
    "while(i<5):\n",
    "    print(i)\n",
    "    i+=1"
   ]
  },
  {
   "cell_type": "markdown",
   "id": "c11be3bd",
   "metadata": {},
   "source": [
    "In this example, the loop will continue to execute as long as the value of `i` is less than 5. The value of `i` is incremented by 1 in each iteration.\n"
   ]
  },
  {
   "cell_type": "markdown",
   "id": "82aee05c",
   "metadata": {},
   "source": [
    "### Else Statements with Loops\n",
    "\n",
    "In Python, `else` statements can be used with loops to provide additional functionality. The `else` block is executed after the loop completes normally, meaning it is not terminated by a `break` statement. This can be useful for providing a fallback or default behavior within the loop.\n",
    "\n",
    "#### Example with `for` loop:"
   ]
  },
  {
   "cell_type": "code",
   "execution_count": 9,
   "id": "bc3c6150-5b49-4e70-8dab-4e9533ddc308",
   "metadata": {},
   "outputs": [
    {
     "name": "stdout",
     "output_type": "stream",
     "text": [
      "0\n",
      "1\n",
      "2\n",
      "Done\n"
     ]
    }
   ],
   "source": [
    "for i in range(3):\n",
    "    print(i)\n",
    "else:\n",
    "    print(\"Done\")\n"
   ]
  },
  {
   "cell_type": "markdown",
   "id": "f71e2681-5ae7-4108-bc62-3f81e549c0bc",
   "metadata": {},
   "source": [
    "### Simple program to find number of repeating character in string"
   ]
  },
  {
   "cell_type": "code",
   "execution_count": 10,
   "id": "d2f4a539-c365-4418-bd9a-1085066817c5",
   "metadata": {},
   "outputs": [
    {
     "name": "stdout",
     "output_type": "stream",
     "text": [
      "{'h': 2, 'e': 2, 'l': 2, 'o': 2}\n"
     ]
    }
   ],
   "source": [
    "char_count = {}\n",
    "input_string = \"hheelloo\"\n",
    "for char in input_string:\n",
    "    if char in char_count:\n",
    "        char_count[char] += 1\n",
    "    else:\n",
    "        char_count[char] = 1\n",
    "print(char_count)\n"
   ]
  },
  {
   "cell_type": "markdown",
   "id": "38de26bf-b6b0-49ca-942f-feaa2328e439",
   "metadata": {},
   "source": [
    "### 5.4 NESTED LOOPS\n",
    "##### Loops inside Loops"
   ]
  },
  {
   "cell_type": "code",
   "execution_count": 11,
   "id": "01afe0d0-e6e8-4aed-a78f-1b598a64005f",
   "metadata": {},
   "outputs": [
    {
     "name": "stdout",
     "output_type": "stream",
     "text": [
      "* * * * \n",
      "* * * * \n",
      "* * * * \n",
      "* * * * \n"
     ]
    }
   ],
   "source": [
    "for i in range(4):  # Outer loop for rows\n",
    "    for j in range(4):  # Inner loop for columns\n",
    "        print('*',end=' ')\n",
    "    print()"
   ]
  }
 ],
 "metadata": {
  "kernelspec": {
   "display_name": ".venv",
   "language": "python",
   "name": "python3"
  },
  "language_info": {
   "codemirror_mode": {
    "name": "ipython",
    "version": 3
   },
   "file_extension": ".py",
   "mimetype": "text/x-python",
   "name": "python",
   "nbconvert_exporter": "python",
   "pygments_lexer": "ipython3",
   "version": "3.12.6"
  }
 },
 "nbformat": 4,
 "nbformat_minor": 5
}

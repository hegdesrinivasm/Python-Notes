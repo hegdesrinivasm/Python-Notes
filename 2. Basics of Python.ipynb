{
 "cells": [
  {
   "cell_type": "markdown",
   "metadata": {},
   "source": [
    "## 2.1 Clean Code Principles\n",
    "- 2.1.1 Readability\n",
    "    - Consistent naming conventions\n",
    "    - Commenting and documentation\n",
    "- 2.1.2 Maintainability\n",
    "    - Modular code with functions and classes\n",
    "    - Avoiding code duplication\n",
    "    - Writing tests to ensure code correctness\n",
    "- 2.1.3 Efficiency\n",
    "    - Optimizing algorithms and data structures\n",
    "    - Reducing time and space complexity"
   ]
  },
  {
   "cell_type": "markdown",
   "metadata": {},
   "source": [
    "## 2.2 Variables\n",
    "- They are containers that store values.\n",
    "- Their type need not be declared expliciitly."
   ]
  },
  {
   "cell_type": "code",
   "execution_count": 1,
   "metadata": {},
   "outputs": [
    {
     "name": "stdout",
     "output_type": "stream",
     "text": [
      "<class 'int'>\n",
      "5\n"
     ]
    }
   ],
   "source": [
    "x = 5 #Automatically declares 'x' as an integer variable.\n",
    "print(type(x)) #Prints the type of 'x'.\n",
    "print(x) #Prints the value of 'x'."
   ]
  },
  {
   "cell_type": "markdown",
   "metadata": {},
   "source": [
    "## 2.3 Typecasting:\n",
    "Typecasting is the process of converting a variable from one data type to another. This is useful when you need to perform operations that require variables to be of the same type.  \n",
    "Two types of typecasting:\n",
    "- 2.3.1 Implicit typecasting\n",
    "- 2.3.2 Explicit typecasting\n",
    "\n",
    "Example:"
   ]
  },
  {
   "cell_type": "markdown",
   "metadata": {},
   "source": [
    "#### 2.3.1 Implicit typecasting"
   ]
  },
  {
   "cell_type": "code",
   "execution_count": 2,
   "metadata": {},
   "outputs": [
    {
     "name": "stdout",
     "output_type": "stream",
     "text": [
      "13.5\n"
     ]
    }
   ],
   "source": [
    "x = 10\n",
    "y = 3.5\n",
    "z = x + y  # x is implicitly converted to float\n",
    "print(z)  # Output: 13.5"
   ]
  },
  {
   "cell_type": "markdown",
   "metadata": {},
   "source": [
    "#### 2.3.2 Explicit typecasting"
   ]
  },
  {
   "cell_type": "code",
   "execution_count": 3,
   "metadata": {},
   "outputs": [
    {
     "name": "stdout",
     "output_type": "stream",
     "text": [
      "123\n"
     ]
    }
   ],
   "source": [
    "a = \"123\"\n",
    "b = int(a)  # a is explicitly converted to integer\n",
    "print(b)  # Output: 123"
   ]
  },
  {
   "cell_type": "markdown",
   "metadata": {},
   "source": [
    "## 2.4 Data Types:\n",
    "Python has several built-in data types, including:\n",
    "\n",
    "- **Numeric Types**: int, float, complex\n",
    "- **Sequence Types**: list, tuple, range\n",
    "- **Text Type**: str\n",
    "- **Mapping Type**: dict\n",
    "- **Set Types**: set, frozenset\n",
    "- **Boolean Type**: bool\n",
    "- **Binary Types**: bytes, bytearray, memoryview"
   ]
  },
  {
   "cell_type": "markdown",
   "metadata": {},
   "source": [
    "### 2.4.1 Numbers\n",
    "Under the number category, we have three types:\n",
    "1. **Integers (int)**: Whole numbers without a fractional part. Example: `5`, `-3`\n",
    "2. **Float (float)**: Numbers with a fractional part. Example: `3.14`, `-0.001`\n",
    "3. **Complex (complex)**: Numbers with a real and an imaginary part. Example: `2 + 3j`, `-1 - 4j`"
   ]
  },
  {
   "cell_type": "code",
   "execution_count": 4,
   "metadata": {},
   "outputs": [
    {
     "name": "stdout",
     "output_type": "stream",
     "text": [
      "Integer: 5, Type: <class 'int'>\n",
      "Float: 3.14, Type: <class 'float'>\n",
      "Complex: (2+3j), Type: <class 'complex'>\n"
     ]
    }
   ],
   "source": [
    "# Example of using different numeric types\n",
    "int_num = 5  # Integer\n",
    "float_num = 3.14  # Float\n",
    "complex_num = 2 + 3j  # Complex\n",
    "\n",
    "print(f\"Integer: {int_num}, Type: {type(int_num)}\")\n",
    "print(f\"Float: {float_num}, Type: {type(float_num)}\")\n",
    "print(f\"Complex: {complex_num}, Type: {type(complex_num)}\")"
   ]
  },
  {
   "cell_type": "markdown",
   "metadata": {},
   "source": [
    "### 2.4.2 Strings\n",
    "Strings are sequences of characters enclosed in quotes. They can be created using single quotes (`'`), double quotes (`\"`), or triple quotes (`'''` or `\"\"\"`).\n"
   ]
  },
  {
   "cell_type": "markdown",
   "metadata": {},
   "source": [
    "- **Creating Strings**:"
   ]
  },
  {
   "cell_type": "code",
   "execution_count": 5,
   "metadata": {},
   "outputs": [
    {
     "name": "stdout",
     "output_type": "stream",
     "text": [
      "Hello\n",
      "World\n",
      "This is a\n",
      "    multi-line string\n"
     ]
    }
   ],
   "source": [
    "str1 = 'Hello'\n",
    "str2 = \"World\"\n",
    "str3 = '''This is a\n",
    "    multi-line string'''\n",
    "print(str1)\n",
    "print(str2)\n",
    "print(str3)"
   ]
  },
  {
   "cell_type": "markdown",
   "metadata": {},
   "source": [
    "- **String Concatenation**: Combining two or more strings using the `+` operator."
   ]
  },
  {
   "cell_type": "code",
   "execution_count": 6,
   "metadata": {},
   "outputs": [
    {
     "name": "stdout",
     "output_type": "stream",
     "text": [
      "Hello World\n"
     ]
    }
   ],
   "source": [
    "full_str = str1 + \" \" + str2\n",
    "print(full_str)"
   ]
  },
  {
   "cell_type": "markdown",
   "metadata": {},
   "source": [
    "- **String Formatting**: Inserting variables into strings using f-strings, `format()`, or `%` operator."
   ]
  },
  {
   "cell_type": "code",
   "execution_count": 7,
   "metadata": {},
   "outputs": [
    {
     "name": "stdout",
     "output_type": "stream",
     "text": [
      "My name is Alice and I am 25 years old.\n"
     ]
    }
   ],
   "source": [
    "name = \"Alice\"\n",
    "age = 25\n",
    "formatted_str = f\"My name is {name} and I am {age} years old.\"\n",
    "print(formatted_str)"
   ]
  },
  {
   "cell_type": "markdown",
   "metadata": {},
   "source": [
    "- **Indexing and Slicing**: Accessing individual characters or substrings using indices."
   ]
  },
  {
   "cell_type": "code",
   "execution_count": 8,
   "metadata": {},
   "outputs": [
    {
     "name": "stdout",
     "output_type": "stream",
     "text": [
      "H\n",
      "ell\n"
     ]
    }
   ],
   "source": [
    "first_char = str1[0]  # Output: 'H'\n",
    "substring = str1[1:4]  # Output: 'ell'\n",
    "print(first_char)\n",
    "print(substring)"
   ]
  },
  {
   "cell_type": "markdown",
   "metadata": {},
   "source": [
    "### 2.4.3 Lists\n",
    "- Lists are ordered, mutable collections of items.\n",
    "- They can contain elements of different data types.\n",
    "- Lists are created using square brackets `[]`.\n",
    "- Elements can be accessed using indices, starting from 0.\n",
    "- Lists support various methods like `append()`, `remove()`, `pop()`, and `sort()`."
   ]
  },
  {
   "cell_type": "code",
   "execution_count": 9,
   "metadata": {},
   "outputs": [
    {
     "name": "stdout",
     "output_type": "stream",
     "text": [
      "Original list: [1, 2, 3, 4, 5]\n",
      "First element: 1\n",
      "Modified list: [1, 20, 3, 4, 5]\n",
      "List after appending: [1, 20, 3, 4, 5, 6]\n",
      "List after removing an element: [1, 20, 4, 5, 6]\n",
      "Popped element: 6\n",
      "List after popping an element: [1, 20, 4, 5]\n",
      "Sorted list: [1, 4, 5, 20]\n"
     ]
    }
   ],
   "source": [
    "# Creating a list\n",
    "my_list = [1, 2, 3, 4, 5]\n",
    "print(\"Original list:\", my_list)\n",
    "\n",
    "# Accessing elements\n",
    "first_element = my_list[0]\n",
    "print(\"First element:\", first_element)\n",
    "\n",
    "# Modifying elements\n",
    "my_list[1] = 20\n",
    "print(\"Modified list:\", my_list)\n",
    "\n",
    "# Appending elements\n",
    "my_list.append(6)\n",
    "print(\"List after appending:\", my_list)\n",
    "\n",
    "# Removing elements\n",
    "my_list.remove(3)\n",
    "print(\"List after removing an element:\", my_list)\n",
    "\n",
    "# Popping elements\n",
    "popped_element = my_list.pop()\n",
    "print(\"Popped element:\", popped_element)\n",
    "print(\"List after popping an element:\", my_list)\n",
    "\n",
    "# Sorting the list\n",
    "my_list.sort()\n",
    "print(\"Sorted list:\", my_list)"
   ]
  },
  {
   "cell_type": "markdown",
   "metadata": {},
   "source": [
    "### 2.4.4 Tuples\n",
    "- Tuples are ordered, immutable collections of items.\n",
    "- They can contain elements of different data types.\n",
    "- Tuples are created using parentheses `()`.\n",
    "- Elements can be accessed using indices, starting from 0.\n",
    "- Tuples support various methods like `count()` and `index()`."
   ]
  },
  {
   "cell_type": "code",
   "execution_count": 10,
   "metadata": {},
   "outputs": [
    {
     "name": "stdout",
     "output_type": "stream",
     "text": [
      "Original tuple: (1, 2, 3, 4, 5)\n",
      "First element: 1\n",
      "Count of 2 in tuple: 1\n",
      "Index of 4 in tuple: 3\n"
     ]
    }
   ],
   "source": [
    "# Creating a tuple\n",
    "my_tuple = (1, 2, 3, 4, 5)\n",
    "print(\"Original tuple:\", my_tuple)\n",
    "\n",
    "# Accessing elements\n",
    "first_element = my_tuple[0]\n",
    "print(\"First element:\", first_element)\n",
    "\n",
    "# Counting elements\n",
    "count_of_2 = my_tuple.count(2)\n",
    "print(\"Count of 2 in tuple:\", count_of_2)\n",
    "\n",
    "# Finding index of an element\n",
    "index_of_4 = my_tuple.index(4)\n",
    "print(\"Index of 4 in tuple:\", index_of_4)"
   ]
  },
  {
   "cell_type": "markdown",
   "metadata": {},
   "source": [
    "### 2.4.5 Dictionaries\n",
    "- Dictionaries are unordered collections of items.\n",
    "- Stores key-value pairs.\n",
    "- Keys are unique.\n",
    "- Created using curly braces `{}`.\n",
    "- Elements can be accessed using keys.\n",
    "- Supports methods like `keys()`, `values()`, `items()`, `get()`, and `pop()`."
   ]
  },
  {
   "cell_type": "code",
   "execution_count": 11,
   "metadata": {},
   "outputs": [
    {
     "name": "stdout",
     "output_type": "stream",
     "text": [
      "Original dictionary: {'name': 'Alice', 'age': 25, 'gender': 'F'}\n",
      "Name: Alice\n",
      "Modified dictionary: {'name': 'Alice', 'age': 26, 'gender': 'F'}\n",
      "Dictionary after adding a new element: {'name': 'Alice', 'age': 26, 'gender': 'F', 'city': 'New York'}\n",
      "Dictionary after removing an element: {'name': 'Alice', 'age': 26, 'city': 'New York'}\n",
      "Keys: dict_keys(['name', 'age', 'city'])\n",
      "Values: dict_values(['Alice', 26, 'New York'])\n",
      "Items: dict_items([('name', 'Alice'), ('age', 26), ('city', 'New York')])\n"
     ]
    }
   ],
   "source": [
    "# Creating a dictionary\n",
    "my_dict = {'name': 'Alice', 'age': 25, 'gender': 'F'}\n",
    "print(\"Original dictionary:\", my_dict)\n",
    "\n",
    "# Accessing elements\n",
    "name = my_dict['name']\n",
    "print(\"Name:\", name)\n",
    "\n",
    "# Modifying elements\n",
    "my_dict['age'] = 26\n",
    "print(\"Modified dictionary:\", my_dict)\n",
    "\n",
    "# Adding new elements\n",
    "my_dict['city'] = 'New York'\n",
    "print(\"Dictionary after adding a new element:\", my_dict)\n",
    "\n",
    "# Removing elements\n",
    "del my_dict['gender']\n",
    "print(\"Dictionary after removing an element:\", my_dict)\n",
    "\n",
    "# Using dictionary methods\n",
    "keys = my_dict.keys()\n",
    "values = my_dict.values()\n",
    "items = my_dict.items()\n",
    "print(\"Keys:\", keys)\n",
    "print(\"Values:\", values)\n",
    "print(\"Items:\", items)"
   ]
  },
  {
   "cell_type": "markdown",
   "metadata": {},
   "source": [
    "### 2.4.6 Sets\n",
    "- Sets are unordered collections of unique items.\n",
    "- Created using curly braces `{}` or the `set()` function.\n",
    "- Elements cannot be accessed using indices.\n",
    "- Supports methods like `add()`, `remove()`, `union()`, `intersection()`, and `difference()`."
   ]
  },
  {
   "cell_type": "code",
   "execution_count": 12,
   "metadata": {},
   "outputs": [
    {
     "name": "stdout",
     "output_type": "stream",
     "text": [
      "Original set: {1, 2, 3, 4, 5}\n",
      "Set after adding an element: {1, 2, 3, 4, 5, 6}\n",
      "Set after removing an element: {1, 2, 4, 5, 6}\n",
      "Union of sets: {1, 2, 4, 5, 6, 7, 8}\n",
      "Intersection of sets: {4, 5, 6}\n",
      "Difference of sets: {1, 2}\n"
     ]
    }
   ],
   "source": [
    "# Creating a set\n",
    "my_set = {1, 2, 3, 4, 5}\n",
    "print(\"Original set:\", my_set)\n",
    "\n",
    "# Adding elements\n",
    "my_set.add(6)\n",
    "print(\"Set after adding an element:\", my_set)\n",
    "\n",
    "# Removing elements\n",
    "my_set.remove(3)\n",
    "print(\"Set after removing an element:\", my_set)\n",
    "\n",
    "# Union of sets\n",
    "another_set = {4, 5, 6, 7, 8}\n",
    "union_set = my_set.union(another_set)\n",
    "print(\"Union of sets:\", union_set)\n",
    "\n",
    "# Intersection of sets\n",
    "intersection_set = my_set.intersection(another_set)\n",
    "print(\"Intersection of sets:\", intersection_set)\n",
    "\n",
    "# Difference of sets\n",
    "difference_set = my_set.difference(another_set)\n",
    "print(\"Difference of sets:\", difference_set)"
   ]
  },
  {
   "cell_type": "markdown",
   "metadata": {},
   "source": [
    "##### Here's a small code snippet which calculates the average of marks scored in 5 subjects"
   ]
  },
  {
   "cell_type": "code",
   "execution_count": null,
   "metadata": {},
   "outputs": [
    {
     "name": "stdout",
     "output_type": "stream",
     "text": [
      "Average marks: 68.80\n",
      "68.8\n"
     ]
    }
   ],
   "source": [
    "marks = [int(input()) for x in range(5)] #Takes 5 inputs from the user and stores them in a list.\n",
    "average = sum(marks) / 5 #.sum() calculates the sum of all the elements in the list.\n",
    "print(\"Average marks: %.2f\" % (average)) #.2f is used to format the output to 2 decimal places.\n",
    "print(str(average)) #Converts the float value of 'average' to a string value."
   ]
  }
 ],
 "metadata": {
  "kernelspec": {
   "display_name": ".venv",
   "language": "python",
   "name": "python3"
  },
  "language_info": {
   "codemirror_mode": {
    "name": "ipython",
    "version": 3
   },
   "file_extension": ".py",
   "mimetype": "text/x-python",
   "name": "python",
   "nbconvert_exporter": "python",
   "pygments_lexer": "ipython3",
   "version": "3.12.6"
  }
 },
 "nbformat": 4,
 "nbformat_minor": 2
}

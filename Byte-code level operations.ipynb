{
 "cells": [
  {
   "cell_type": "markdown",
   "id": "f0a410a2",
   "metadata": {},
   "source": [
    "## 1. Operations in python at byte code level"
   ]
  },
  {
   "cell_type": "markdown",
   "id": "bcd20b9e",
   "metadata": {},
   "source": [
    "### To know :  REPL\n",
    "R -> Read\n",
    "E -> Exaluate\n",
    "P -> Print\n",
    "L -> loop"
   ]
  },
  {
   "cell_type": "markdown",
   "id": "53a9b465",
   "metadata": {},
   "source": [
    "### What is byte code \n",
    "is a representation \n",
    "8 bits -> 1 byte and each bit has some meaning\n",
    "\n",
    "for example 00000001 -> it performs say 1+1\n",
    "\n",
    "### Opcode - operational code\n",
    "it represents a particular function which is defined by us\n",
    "\n",
    "for example in any general purpose processor any manufacturer will be giving a table which \n",
    "opcode does what functions\n",
    "\n",
    "in python mutiple byte code and make a single opcode\n",
    "    example lets take 0000001 is a series of byte code and let it be made as an opcode \n",
    "    and it may take few parameters which takes few other byte code series say addition\n",
    "    based the table it does what kind process takes place\n",
    "    \n",
    "    Python generates series bytecode and python virtual machine runs it\n",
    "    \n",
    "    "
   ]
  },
  {
   "cell_type": "markdown",
   "id": "fdcd6f6f",
   "metadata": {},
   "source": [
    "### in python if we define a function where do we find it in the memory"
   ]
  },
  {
   "cell_type": "code",
   "execution_count": 4,
   "id": "5a93097d",
   "metadata": {},
   "outputs": [],
   "source": [
    "def fun(x,y):\n",
    "    return x+y"
   ]
  },
  {
   "cell_type": "code",
   "execution_count": 5,
   "id": "6dc6d5ed",
   "metadata": {},
   "outputs": [
    {
     "name": "stdout",
     "output_type": "stream",
     "text": [
      "<function fun at 0x7fec0312f910>\n"
     ]
    }
   ],
   "source": [
    "print(fun)"
   ]
  },
  {
   "cell_type": "markdown",
   "id": "b96c0c3c",
   "metadata": {},
   "source": [
    "### this gives above function  the address of the of the function and the defintions address is in the below cell"
   ]
  },
  {
   "cell_type": "code",
   "execution_count": 6,
   "id": "1b69b5b9",
   "metadata": {},
   "outputs": [
    {
     "data": {
      "text/plain": [
       "<code object fun at 0x7febf0c6e810, file \"/tmp/ipykernel_4153/37564102.py\", line 1>"
      ]
     },
     "execution_count": 6,
     "metadata": {},
     "output_type": "execute_result"
    }
   ],
   "source": [
    "fun.__code__"
   ]
  },
  {
   "cell_type": "markdown",
   "id": "9c1e512c",
   "metadata": {},
   "source": [
    "### it strats with b' ' which represents the byte code of the function"
   ]
  },
  {
   "cell_type": "code",
   "execution_count": 10,
   "id": "3744aacb",
   "metadata": {},
   "outputs": [
    {
     "name": "stdout",
     "output_type": "stream",
     "text": [
      "b'|\\x00|\\x01\\x17\\x00S\\x00'\n"
     ]
    }
   ],
   "source": [
    "bytecode = fun.__code__.co_code\n",
    "print(bytecode)"
   ]
  },
  {
   "cell_type": "markdown",
   "id": "c1bc225f",
   "metadata": {},
   "source": [
    "### lets store this as a list and this is the bytecode repesentation"
   ]
  },
  {
   "cell_type": "code",
   "execution_count": 12,
   "id": "57a4bcd9",
   "metadata": {},
   "outputs": [
    {
     "name": "stdout",
     "output_type": "stream",
     "text": [
      "[124, 0, 124, 1, 23, 0, 83, 0]\n"
     ]
    }
   ],
   "source": [
    "list_bytecode = list(bytecode)\n",
    "print(list_bytecode)"
   ]
  },
  {
   "cell_type": "code",
   "execution_count": 13,
   "id": "467d13fc",
   "metadata": {},
   "outputs": [
    {
     "name": "stdout",
     "output_type": "stream",
     "text": [
      "  2           0 LOAD_FAST                0 (x)\n",
      "              2 LOAD_FAST                1 (y)\n",
      "              4 BINARY_ADD\n",
      "              6 RETURN_VALUE\n"
     ]
    }
   ],
   "source": [
    "from dis import dis\n",
    "\n",
    "dis(fun)"
   ]
  },
  {
   "cell_type": "markdown",
   "id": "fd7198be",
   "metadata": {},
   "source": [
    "#### dis takes the bytecode and converts it to human readable formate"
   ]
  },
  {
   "cell_type": "markdown",
   "id": "4c022144",
   "metadata": {},
   "source": [
    "### in python the opcode is limited  two argumetns that is one instruction and one argument\n",
    "    124 ->LOALD_FAST  0 ->\n",
    "    124 ->LOAD_FAST   1 ->\n",
    "    23 ->BINARY_ADD   0 ->\n",
    "    83 ->RETURN_VALUE 0 ->\n",
    "    \n",
    "    instructions      arguments"
   ]
  },
  {
   "cell_type": "markdown",
   "id": "7bff5d78",
   "metadata": {},
   "source": [
    "### these bytecode based on cpython and other distribution may have different implementaion\n",
    "for more information in google search for dis in cpython"
   ]
  },
  {
   "cell_type": "markdown",
   "id": "42601304",
   "metadata": {},
   "source": [
    "### This gives the filename in which the function fun is defined"
   ]
  },
  {
   "cell_type": "code",
   "execution_count": 15,
   "id": "97dcedc9",
   "metadata": {},
   "outputs": [
    {
     "data": {
      "text/plain": [
       "'/tmp/ipykernel_4153/37564102.py'"
      ]
     },
     "execution_count": 15,
     "metadata": {},
     "output_type": "execute_result"
    }
   ],
   "source": [
    "fun.__code__.co_filename"
   ]
  },
  {
   "cell_type": "markdown",
   "id": "9782cf51",
   "metadata": {},
   "source": [
    "### this gives the total arguments in the function fun we declared"
   ]
  },
  {
   "cell_type": "code",
   "execution_count": 16,
   "id": "6bd80417",
   "metadata": {},
   "outputs": [
    {
     "data": {
      "text/plain": [
       "2"
      ]
     },
     "execution_count": 16,
     "metadata": {},
     "output_type": "execute_result"
    }
   ],
   "source": [
    "fun.__code__.co_argcount"
   ]
  },
  {
   "cell_type": "markdown",
   "id": "03eacc82",
   "metadata": {},
   "source": [
    "### in python when we call any function some shared memory is allocated"
   ]
  },
  {
   "cell_type": "code",
   "execution_count": 17,
   "id": "792861a9",
   "metadata": {},
   "outputs": [
    {
     "data": {
      "text/plain": [
       "2"
      ]
     },
     "execution_count": 17,
     "metadata": {},
     "output_type": "execute_result"
    }
   ],
   "source": [
    "fun.__code__.co_stacksize"
   ]
  },
  {
   "cell_type": "markdown",
   "id": "91ca8b72",
   "metadata": {},
   "source": [
    "##### Here shows 2 and lets see why is takes 2 exactly"
   ]
  },
  {
   "cell_type": "markdown",
   "id": "47bfff44",
   "metadata": {},
   "source": [
    "### lets see how does it work"
   ]
  },
  {
   "cell_type": "code",
   "execution_count": 18,
   "id": "7205ffd6",
   "metadata": {},
   "outputs": [
    {
     "data": {
      "text/plain": [
       "'helloworld'"
      ]
     },
     "execution_count": 18,
     "metadata": {},
     "output_type": "execute_result"
    }
   ],
   "source": [
    "fun(\"hello\",\"world\")"
   ]
  },
  {
   "cell_type": "markdown",
   "id": "ed339960",
   "metadata": {},
   "source": [
    "#### when the function is called the first operand is pushed to the stack and then pushes the second operand is pushed on to the stack and the defined task is performed and in the end the result is then pushed on to the stack later it is poped from the stack"
   ]
  },
  {
   "cell_type": "markdown",
   "id": "efc52819",
   "metadata": {},
   "source": [
    "### Optimization :\n",
    "lets see a C file\n",
    "\n",
    "int main(){\n",
    "    int x = 10, y = 10;\n",
    "    int sum = x+y;\n",
    "    return 0;\n",
    "}\n",
    "\n",
    "def main():\n",
    "    x,y = 10,10\n",
    "    sum = x+y\n",
    "    return 0\n",
    "    "
   ]
  },
  {
   "cell_type": "code",
   "execution_count": 20,
   "id": "fa7b6723",
   "metadata": {},
   "outputs": [
    {
     "name": "stdout",
     "output_type": "stream",
     "text": [
      "  2           0 LOAD_CONST               1 (10)\n",
      "              2 STORE_FAST               0 (x)\n",
      "\n",
      "  3           4 LOAD_CONST               1 (10)\n",
      "              6 STORE_FAST               1 (y)\n",
      "\n",
      "  4           8 LOAD_FAST                0 (x)\n",
      "             10 LOAD_FAST                1 (y)\n",
      "             12 BINARY_ADD\n",
      "             14 STORE_FAST               2 (sum)\n",
      "\n",
      "  5          16 LOAD_CONST               2 (0)\n",
      "             18 RETURN_VALUE\n"
     ]
    }
   ],
   "source": [
    "def main():\n",
    "    x = 10\n",
    "    y = 10\n",
    "    sum = x+y\n",
    "    return 0\n",
    "\n",
    "dis(main)"
   ]
  },
  {
   "cell_type": "code",
   "execution_count": 21,
   "id": "c7277c02",
   "metadata": {},
   "outputs": [
    {
     "data": {
      "text/plain": [
       "2"
      ]
     },
     "execution_count": 21,
     "metadata": {},
     "output_type": "execute_result"
    }
   ],
   "source": [
    "main.__code__.co_stacksize"
   ]
  },
  {
   "cell_type": "markdown",
   "id": "664659eb",
   "metadata": {},
   "source": [
    "### lets see the c program in the assembly language\n",
    "\n",
    "you may find a lable with name main\n",
    "\n",
    "with different Optimisation we get different levels such as O0, O1, O2\n",
    "and in O0 it is performing similar to the above byte code \n",
    "and when it performs the O2 it removes all the unnessesary things and recognises that it only to return 0"
   ]
  },
  {
   "cell_type": "code",
   "execution_count": null,
   "id": "dcde8ba5",
   "metadata": {},
   "outputs": [],
   "source": []
  }
 ],
 "metadata": {
  "kernelspec": {
   "display_name": "Python 3 (ipykernel)",
   "language": "python",
   "name": "python3"
  },
  "language_info": {
   "codemirror_mode": {
    "name": "ipython",
    "version": 3
   },
   "file_extension": ".py",
   "mimetype": "text/x-python",
   "name": "python",
   "nbconvert_exporter": "python",
   "pygments_lexer": "ipython3",
   "version": "3.10.9"
  }
 },
 "nbformat": 4,
 "nbformat_minor": 5
}

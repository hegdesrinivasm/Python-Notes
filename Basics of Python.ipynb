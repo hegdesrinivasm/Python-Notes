{
 "cells": [
  {
   "cell_type": "markdown",
   "metadata": {},
   "source": [
    "# Clean Code Principles\n",
    "- Readability\n",
    "- Maintainability\n",
    "- Efficiency\n",
    "\n",
    "# Variables\n",
    "- They are containers that store values.\n",
    "- Their type need not be declared expliciitly."
   ]
  },
  {
   "cell_type": "code",
   "execution_count": 2,
   "metadata": {},
   "outputs": [
    {
     "name": "stdout",
     "output_type": "stream",
     "text": [
      "<class 'int'>\n",
      "5\n"
     ]
    }
   ],
   "source": [
    "x = 5 #Automatically declares 'x' as an integer variable.\n",
    "print(type(x)) #Prints the type of 'x'.\n",
    "print(x) #Prints the value of 'x'."
   ]
  },
  {
   "cell_type": "markdown",
   "metadata": {},
   "source": [
    "Typecasting: "
   ]
  },
  {
   "cell_type": "markdown",
   "metadata": {},
   "source": [
    "# Data Types:\n",
    "### 1. Numbers\n",
    "Under the number category, we have three types:\n",
    "1. Integers (int)\n",
    "2. Float (float)\n",
    "3. Complex (complex)\n",
    "\n",
    "### 2. Strings\n",
    "\n",
    "### 3. Lists\n",
    "\n",
    "### 4. Tuples\n",
    "\n",
    "### 5. Dictionaries\n",
    "    - Stores key-value pairs.\n",
    "    - Keys are unique.\n",
    "\n",
    "### 6. Sets"
   ]
  },
  {
   "cell_type": "code",
   "execution_count": 3,
   "metadata": {},
   "outputs": [
    {
     "name": "stdout",
     "output_type": "stream",
     "text": [
      "Hello \n"
     ]
    }
   ],
   "source": [
    "name = input(\"Enter name:\") #The string inside the input() function is displayed on the console as a prompt to enter an input.\n",
    "print(\"Hello \"+name) \n",
    "\n",
    "#Typecasting\n",
    "x = 10 + 3.3\n",
    "y = int(x) #Typecasts the float value of 'x' to an integer value."
   ]
  },
  {
   "cell_type": "markdown",
   "metadata": {},
   "source": [
    "Here's a small code snippet:"
   ]
  },
  {
   "cell_type": "code",
   "execution_count": 6,
   "metadata": {},
   "outputs": [
    {
     "name": "stdout",
     "output_type": "stream",
     "text": [
      "Average marks: 4797740095996320.00\n",
      "4797740095996320.0\n"
     ]
    }
   ],
   "source": [
    "marks = [int(input()) for x in range(5)] #Takes 5 inputs from the user and stores them in a list.\n",
    "average = sum(marks)/5 #.sum() calculates the sum of all the elements in the list.\n",
    "print(\"Average marks: %.2f\" %average) #.2f is used to format the output to 2 decimal places.\n",
    "print(str(average)) #Converts the float value of 'average' to a string value."
   ]
  }
 ],
 "metadata": {
  "kernelspec": {
   "display_name": "base",
   "language": "python",
   "name": "python3"
  },
  "language_info": {
   "codemirror_mode": {
    "name": "ipython",
    "version": 3
   },
   "file_extension": ".py",
   "mimetype": "text/x-python",
   "name": "python",
   "nbconvert_exporter": "python",
   "pygments_lexer": "ipython3",
   "version": "3.12.4"
  }
 },
 "nbformat": 4,
 "nbformat_minor": 2
}
